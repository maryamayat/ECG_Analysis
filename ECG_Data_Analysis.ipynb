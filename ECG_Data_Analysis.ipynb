{
 "cells": [
  {
   "cell_type": "markdown",
   "metadata": {
    "id": "srcF6LrkFr-O"
   },
   "source": [
    "# ECG Data Analysis\n",
    "In this notebook, I will carry out a **fast analysis** of some ECG data. \n",
    "\n",
    "There is a file (<font color=DarkGoldenRod>ecg_features.csv</font>) which contains features extracted from ECG signals of human subjects and the labels (i.e., four classes). I will train a classifier that predicts the label based on the features, considering that we do not have any previous knowledge about the data (i.e., the nature of the features), except that there are feature dependencies."
   ]
  },
  {
   "cell_type": "markdown",
   "metadata": {
    "id": "rxoMmK9Ge59W"
   },
   "source": [
    "First, I import the necessary libraries for the whole process:"
   ]
  },
  {
   "cell_type": "code",
   "execution_count": 1,
   "metadata": {
    "id": "FOcrUgRmF1Dd"
   },
   "outputs": [],
   "source": [
    "import pandas as pd \n",
    "import numpy as np\n",
    "\n",
    "from sklearn.model_selection import train_test_split \n",
    "from sklearn.preprocessing import StandardScaler \n",
    "from sklearn.decomposition import PCA, KernelPCA\n",
    "from sklearn.linear_model import LogisticRegression \n",
    "from sklearn.metrics import classification_report\n",
    "from sklearn.preprocessing import OrdinalEncoder\n",
    "\n",
    "import matplotlib.pyplot as plt\n",
    "import seaborn as sns"
   ]
  },
  {
   "cell_type": "markdown",
   "metadata": {
    "id": "O5uh82hJfkGk"
   },
   "source": [
    "Let's look at the ecg file:"
   ]
  },
  {
   "cell_type": "code",
   "execution_count": 2,
   "metadata": {
    "colab": {
     "base_uri": "https://localhost:8080/",
     "height": 392
    },
    "id": "ZjDZoXMsfXYm",
    "outputId": "4bf390b2-15b8-43f4-9199-bb9e7f2c3aa2"
   },
   "outputs": [
    {
     "data": {
      "text/html": [
       "<div>\n",
       "<style scoped>\n",
       "    .dataframe tbody tr th:only-of-type {\n",
       "        vertical-align: middle;\n",
       "    }\n",
       "\n",
       "    .dataframe tbody tr th {\n",
       "        vertical-align: top;\n",
       "    }\n",
       "\n",
       "    .dataframe thead th {\n",
       "        text-align: right;\n",
       "    }\n",
       "</style>\n",
       "<table border=\"1\" class=\"dataframe\">\n",
       "  <thead>\n",
       "    <tr style=\"text-align: right;\">\n",
       "      <th></th>\n",
       "      <th>Unnamed: 0</th>\n",
       "      <th>label</th>\n",
       "      <th>variance_ar_p</th>\n",
       "      <th>ar1_pq</th>\n",
       "      <th>ar2_pq</th>\n",
       "      <th>ar3_pq</th>\n",
       "      <th>ar4_pq</th>\n",
       "      <th>variance_ar_pq</th>\n",
       "      <th>ar1_qrs</th>\n",
       "      <th>ar2_qrs</th>\n",
       "      <th>...</th>\n",
       "      <th>categ_feat10</th>\n",
       "      <th>categ_feat11</th>\n",
       "      <th>categ_feat12</th>\n",
       "      <th>categ_feat13</th>\n",
       "      <th>categ_feat14</th>\n",
       "      <th>categ_feat15</th>\n",
       "      <th>categ_feat16</th>\n",
       "      <th>categ_feat17</th>\n",
       "      <th>categ_feat18</th>\n",
       "      <th>categ_feat19</th>\n",
       "    </tr>\n",
       "  </thead>\n",
       "  <tbody>\n",
       "    <tr>\n",
       "      <td>0</td>\n",
       "      <td>0</td>\n",
       "      <td>0</td>\n",
       "      <td>63.587938</td>\n",
       "      <td>-1.417539</td>\n",
       "      <td>0.806484</td>\n",
       "      <td>-0.219239</td>\n",
       "      <td>0.030321</td>\n",
       "      <td>61.988036</td>\n",
       "      <td>-1.264411</td>\n",
       "      <td>1.122517</td>\n",
       "      <td>...</td>\n",
       "      <td>T1</td>\n",
       "      <td>I2</td>\n",
       "      <td>D2</td>\n",
       "      <td>F4</td>\n",
       "      <td>I3</td>\n",
       "      <td>U1</td>\n",
       "      <td>N4</td>\n",
       "      <td>S2</td>\n",
       "      <td>J5</td>\n",
       "      <td>N2</td>\n",
       "    </tr>\n",
       "    <tr>\n",
       "      <td>1</td>\n",
       "      <td>1</td>\n",
       "      <td>0</td>\n",
       "      <td>14.533744</td>\n",
       "      <td>-1.352489</td>\n",
       "      <td>0.636449</td>\n",
       "      <td>-0.063630</td>\n",
       "      <td>0.000952</td>\n",
       "      <td>8.414471</td>\n",
       "      <td>-1.167240</td>\n",
       "      <td>0.982375</td>\n",
       "      <td>...</td>\n",
       "      <td>T1</td>\n",
       "      <td>I2</td>\n",
       "      <td>D2</td>\n",
       "      <td>F6</td>\n",
       "      <td>I2</td>\n",
       "      <td>U1</td>\n",
       "      <td>N4</td>\n",
       "      <td>S2</td>\n",
       "      <td>J6</td>\n",
       "      <td>N0</td>\n",
       "    </tr>\n",
       "    <tr>\n",
       "      <td>2</td>\n",
       "      <td>2</td>\n",
       "      <td>0</td>\n",
       "      <td>2054.613117</td>\n",
       "      <td>-1.409604</td>\n",
       "      <td>0.712848</td>\n",
       "      <td>-0.296348</td>\n",
       "      <td>0.118116</td>\n",
       "      <td>682.018315</td>\n",
       "      <td>-1.575944</td>\n",
       "      <td>1.012717</td>\n",
       "      <td>...</td>\n",
       "      <td>T1</td>\n",
       "      <td>I2</td>\n",
       "      <td>D0</td>\n",
       "      <td>F4</td>\n",
       "      <td>I3</td>\n",
       "      <td>U1</td>\n",
       "      <td>N4</td>\n",
       "      <td>S2</td>\n",
       "      <td>J5</td>\n",
       "      <td>N2</td>\n",
       "    </tr>\n",
       "    <tr>\n",
       "      <td>3</td>\n",
       "      <td>3</td>\n",
       "      <td>0</td>\n",
       "      <td>68.916787</td>\n",
       "      <td>-1.227225</td>\n",
       "      <td>0.359249</td>\n",
       "      <td>0.101290</td>\n",
       "      <td>-0.037858</td>\n",
       "      <td>52.275008</td>\n",
       "      <td>-0.880402</td>\n",
       "      <td>0.677413</td>\n",
       "      <td>...</td>\n",
       "      <td>T1</td>\n",
       "      <td>I1</td>\n",
       "      <td>D0</td>\n",
       "      <td>F4</td>\n",
       "      <td>I3</td>\n",
       "      <td>U1</td>\n",
       "      <td>N4</td>\n",
       "      <td>S1</td>\n",
       "      <td>J3</td>\n",
       "      <td>N2</td>\n",
       "    </tr>\n",
       "    <tr>\n",
       "      <td>4</td>\n",
       "      <td>4</td>\n",
       "      <td>0</td>\n",
       "      <td>92.823028</td>\n",
       "      <td>-1.132082</td>\n",
       "      <td>0.530452</td>\n",
       "      <td>-0.159948</td>\n",
       "      <td>0.052240</td>\n",
       "      <td>89.460268</td>\n",
       "      <td>-1.332283</td>\n",
       "      <td>1.152151</td>\n",
       "      <td>...</td>\n",
       "      <td>T2</td>\n",
       "      <td>I2</td>\n",
       "      <td>D4</td>\n",
       "      <td>F5</td>\n",
       "      <td>I3</td>\n",
       "      <td>U1</td>\n",
       "      <td>N4</td>\n",
       "      <td>S2</td>\n",
       "      <td>J4</td>\n",
       "      <td>N2</td>\n",
       "    </tr>\n",
       "  </tbody>\n",
       "</table>\n",
       "<p>5 rows × 72 columns</p>\n",
       "</div>"
      ],
      "text/plain": [
       "   Unnamed: 0  label  variance_ar_p    ar1_pq    ar2_pq    ar3_pq    ar4_pq  \\\n",
       "0           0      0      63.587938 -1.417539  0.806484 -0.219239  0.030321   \n",
       "1           1      0      14.533744 -1.352489  0.636449 -0.063630  0.000952   \n",
       "2           2      0    2054.613117 -1.409604  0.712848 -0.296348  0.118116   \n",
       "3           3      0      68.916787 -1.227225  0.359249  0.101290 -0.037858   \n",
       "4           4      0      92.823028 -1.132082  0.530452 -0.159948  0.052240   \n",
       "\n",
       "   variance_ar_pq   ar1_qrs   ar2_qrs  ...  categ_feat10  categ_feat11  \\\n",
       "0       61.988036 -1.264411  1.122517  ...            T1            I2   \n",
       "1        8.414471 -1.167240  0.982375  ...            T1            I2   \n",
       "2      682.018315 -1.575944  1.012717  ...            T1            I2   \n",
       "3       52.275008 -0.880402  0.677413  ...            T1            I1   \n",
       "4       89.460268 -1.332283  1.152151  ...            T2            I2   \n",
       "\n",
       "   categ_feat12  categ_feat13  categ_feat14  categ_feat15  categ_feat16  \\\n",
       "0            D2            F4            I3            U1            N4   \n",
       "1            D2            F6            I2            U1            N4   \n",
       "2            D0            F4            I3            U1            N4   \n",
       "3            D0            F4            I3            U1            N4   \n",
       "4            D4            F5            I3            U1            N4   \n",
       "\n",
       "   categ_feat17  categ_feat18  categ_feat19  \n",
       "0            S2            J5            N2  \n",
       "1            S2            J6            N0  \n",
       "2            S2            J5            N2  \n",
       "3            S1            J3            N2  \n",
       "4            S2            J4            N2  \n",
       "\n",
       "[5 rows x 72 columns]"
      ]
     },
     "execution_count": 2,
     "metadata": {},
     "output_type": "execute_result"
    }
   ],
   "source": [
    "df = pd.read_csv(\"ecg_features.csv\", sep=',')\n",
    "df.head()"
   ]
  },
  {
   "cell_type": "code",
   "execution_count": 3,
   "metadata": {
    "id": "VP5FF622gkS9"
   },
   "outputs": [
    {
     "data": {
      "text/html": [
       "<div>\n",
       "<style scoped>\n",
       "    .dataframe tbody tr th:only-of-type {\n",
       "        vertical-align: middle;\n",
       "    }\n",
       "\n",
       "    .dataframe tbody tr th {\n",
       "        vertical-align: top;\n",
       "    }\n",
       "\n",
       "    .dataframe thead th {\n",
       "        text-align: right;\n",
       "    }\n",
       "</style>\n",
       "<table border=\"1\" class=\"dataframe\">\n",
       "  <thead>\n",
       "    <tr style=\"text-align: right;\">\n",
       "      <th></th>\n",
       "      <th>label</th>\n",
       "      <th>variance_ar_p</th>\n",
       "      <th>ar1_pq</th>\n",
       "      <th>ar2_pq</th>\n",
       "      <th>ar3_pq</th>\n",
       "      <th>ar4_pq</th>\n",
       "      <th>variance_ar_pq</th>\n",
       "      <th>ar1_qrs</th>\n",
       "      <th>ar2_qrs</th>\n",
       "      <th>ar3_qrs</th>\n",
       "      <th>...</th>\n",
       "      <th>categ_feat10</th>\n",
       "      <th>categ_feat11</th>\n",
       "      <th>categ_feat12</th>\n",
       "      <th>categ_feat13</th>\n",
       "      <th>categ_feat14</th>\n",
       "      <th>categ_feat15</th>\n",
       "      <th>categ_feat16</th>\n",
       "      <th>categ_feat17</th>\n",
       "      <th>categ_feat18</th>\n",
       "      <th>categ_feat19</th>\n",
       "    </tr>\n",
       "  </thead>\n",
       "  <tbody>\n",
       "    <tr>\n",
       "      <td>0</td>\n",
       "      <td>0</td>\n",
       "      <td>63.587938</td>\n",
       "      <td>-1.417539</td>\n",
       "      <td>0.806484</td>\n",
       "      <td>-0.219239</td>\n",
       "      <td>0.030321</td>\n",
       "      <td>61.988036</td>\n",
       "      <td>-1.264411</td>\n",
       "      <td>1.122517</td>\n",
       "      <td>-0.634373</td>\n",
       "      <td>...</td>\n",
       "      <td>T1</td>\n",
       "      <td>I2</td>\n",
       "      <td>D2</td>\n",
       "      <td>F4</td>\n",
       "      <td>I3</td>\n",
       "      <td>U1</td>\n",
       "      <td>N4</td>\n",
       "      <td>S2</td>\n",
       "      <td>J5</td>\n",
       "      <td>N2</td>\n",
       "    </tr>\n",
       "    <tr>\n",
       "      <td>1</td>\n",
       "      <td>0</td>\n",
       "      <td>14.533744</td>\n",
       "      <td>-1.352489</td>\n",
       "      <td>0.636449</td>\n",
       "      <td>-0.063630</td>\n",
       "      <td>0.000952</td>\n",
       "      <td>8.414471</td>\n",
       "      <td>-1.167240</td>\n",
       "      <td>0.982375</td>\n",
       "      <td>-0.567293</td>\n",
       "      <td>...</td>\n",
       "      <td>T1</td>\n",
       "      <td>I2</td>\n",
       "      <td>D2</td>\n",
       "      <td>F6</td>\n",
       "      <td>I2</td>\n",
       "      <td>U1</td>\n",
       "      <td>N4</td>\n",
       "      <td>S2</td>\n",
       "      <td>J6</td>\n",
       "      <td>N0</td>\n",
       "    </tr>\n",
       "    <tr>\n",
       "      <td>2</td>\n",
       "      <td>0</td>\n",
       "      <td>2054.613117</td>\n",
       "      <td>-1.409604</td>\n",
       "      <td>0.712848</td>\n",
       "      <td>-0.296348</td>\n",
       "      <td>0.118116</td>\n",
       "      <td>682.018315</td>\n",
       "      <td>-1.575944</td>\n",
       "      <td>1.012717</td>\n",
       "      <td>-0.558049</td>\n",
       "      <td>...</td>\n",
       "      <td>T1</td>\n",
       "      <td>I2</td>\n",
       "      <td>D0</td>\n",
       "      <td>F4</td>\n",
       "      <td>I3</td>\n",
       "      <td>U1</td>\n",
       "      <td>N4</td>\n",
       "      <td>S2</td>\n",
       "      <td>J5</td>\n",
       "      <td>N2</td>\n",
       "    </tr>\n",
       "    <tr>\n",
       "      <td>3</td>\n",
       "      <td>0</td>\n",
       "      <td>68.916787</td>\n",
       "      <td>-1.227225</td>\n",
       "      <td>0.359249</td>\n",
       "      <td>0.101290</td>\n",
       "      <td>-0.037858</td>\n",
       "      <td>52.275008</td>\n",
       "      <td>-0.880402</td>\n",
       "      <td>0.677413</td>\n",
       "      <td>-0.358651</td>\n",
       "      <td>...</td>\n",
       "      <td>T1</td>\n",
       "      <td>I1</td>\n",
       "      <td>D0</td>\n",
       "      <td>F4</td>\n",
       "      <td>I3</td>\n",
       "      <td>U1</td>\n",
       "      <td>N4</td>\n",
       "      <td>S1</td>\n",
       "      <td>J3</td>\n",
       "      <td>N2</td>\n",
       "    </tr>\n",
       "    <tr>\n",
       "      <td>4</td>\n",
       "      <td>0</td>\n",
       "      <td>92.823028</td>\n",
       "      <td>-1.132082</td>\n",
       "      <td>0.530452</td>\n",
       "      <td>-0.159948</td>\n",
       "      <td>0.052240</td>\n",
       "      <td>89.460268</td>\n",
       "      <td>-1.332283</td>\n",
       "      <td>1.152151</td>\n",
       "      <td>-0.680227</td>\n",
       "      <td>...</td>\n",
       "      <td>T2</td>\n",
       "      <td>I2</td>\n",
       "      <td>D4</td>\n",
       "      <td>F5</td>\n",
       "      <td>I3</td>\n",
       "      <td>U1</td>\n",
       "      <td>N4</td>\n",
       "      <td>S2</td>\n",
       "      <td>J4</td>\n",
       "      <td>N2</td>\n",
       "    </tr>\n",
       "  </tbody>\n",
       "</table>\n",
       "<p>5 rows × 71 columns</p>\n",
       "</div>"
      ],
      "text/plain": [
       "   label  variance_ar_p    ar1_pq    ar2_pq    ar3_pq    ar4_pq  \\\n",
       "0      0      63.587938 -1.417539  0.806484 -0.219239  0.030321   \n",
       "1      0      14.533744 -1.352489  0.636449 -0.063630  0.000952   \n",
       "2      0    2054.613117 -1.409604  0.712848 -0.296348  0.118116   \n",
       "3      0      68.916787 -1.227225  0.359249  0.101290 -0.037858   \n",
       "4      0      92.823028 -1.132082  0.530452 -0.159948  0.052240   \n",
       "\n",
       "   variance_ar_pq   ar1_qrs   ar2_qrs   ar3_qrs  ...  categ_feat10  \\\n",
       "0       61.988036 -1.264411  1.122517 -0.634373  ...            T1   \n",
       "1        8.414471 -1.167240  0.982375 -0.567293  ...            T1   \n",
       "2      682.018315 -1.575944  1.012717 -0.558049  ...            T1   \n",
       "3       52.275008 -0.880402  0.677413 -0.358651  ...            T1   \n",
       "4       89.460268 -1.332283  1.152151 -0.680227  ...            T2   \n",
       "\n",
       "   categ_feat11  categ_feat12  categ_feat13  categ_feat14  categ_feat15  \\\n",
       "0            I2            D2            F4            I3            U1   \n",
       "1            I2            D2            F6            I2            U1   \n",
       "2            I2            D0            F4            I3            U1   \n",
       "3            I1            D0            F4            I3            U1   \n",
       "4            I2            D4            F5            I3            U1   \n",
       "\n",
       "   categ_feat16  categ_feat17  categ_feat18  categ_feat19  \n",
       "0            N4            S2            J5            N2  \n",
       "1            N4            S2            J6            N0  \n",
       "2            N4            S2            J5            N2  \n",
       "3            N4            S1            J3            N2  \n",
       "4            N4            S2            J4            N2  \n",
       "\n",
       "[5 rows x 71 columns]"
      ]
     },
     "execution_count": 3,
     "metadata": {},
     "output_type": "execute_result"
    }
   ],
   "source": [
    "df.drop(['Unnamed: 0'], axis=1, inplace=True)\n",
    "df.head()"
   ]
  },
  {
   "cell_type": "code",
   "execution_count": 4,
   "metadata": {},
   "outputs": [
    {
     "name": "stdout",
     "output_type": "stream",
     "text": [
      "Number of ECG signals =  8528\n"
     ]
    }
   ],
   "source": [
    "print('Number of ECG signals = ', len(df))"
   ]
  },
  {
   "cell_type": "markdown",
   "metadata": {},
   "source": [
    "Therefore, in the above table, there are 8528 signals. The first column indicates the labels, and the columns 2-70 are the features. We see that some features are numerical (the first 50 columns) while some are categorial (the last 20 columns)."
   ]
  },
  {
   "cell_type": "markdown",
   "metadata": {},
   "source": [
    "One approach to solve such a proplem can be constructing separate models for numerical and categorial features, then combining their results to provide the final prediction. For this problem, I intend to do the following steps:\n",
    "    1. Consider a baseline for prediction.\n",
    "    2. Construct a logistic regression classifier for the the first 50 numerical features (Classifier-I).\n",
    "    3. Construct a logistic regression classifier for the last 20 categorial features (Classifier-II).\n",
    "    4. Implement a voting classifier over the two classifiers.\n",
    "    "
   ]
  },
  {
   "cell_type": "markdown",
   "metadata": {},
   "source": [
    "## 1. Baseline"
   ]
  },
  {
   "cell_type": "markdown",
   "metadata": {},
   "source": [
    "It useful to have a base line for predictions:"
   ]
  },
  {
   "cell_type": "code",
   "execution_count": 5,
   "metadata": {},
   "outputs": [
    {
     "name": "stdout",
     "output_type": "stream",
     "text": [
      "0    0.592167\n",
      "2    0.287992\n",
      "1    0.086538\n",
      "3    0.033302\n",
      "Name: label, dtype: float64\n"
     ]
    }
   ],
   "source": [
    "print(df.label.value_counts(normalize= True))"
   ]
  },
  {
   "cell_type": "markdown",
   "metadata": {},
   "source": [
    "Alright. Above predictions show that we have an imbalances dataset, i.e., about 60% of samples have Label-0, 30% Label-2, while Label-1 or Label-3 are less than 1%. "
   ]
  },
  {
   "cell_type": "markdown",
   "metadata": {},
   "source": [
    "## 2. Classifier-I\n",
    "\n",
    "Construct a logistic regression classifier for the the first 50 numerical features."
   ]
  },
  {
   "cell_type": "markdown",
   "metadata": {},
   "source": [
    "First, I extract features and target values:"
   ]
  },
  {
   "cell_type": "code",
   "execution_count": 6,
   "metadata": {},
   "outputs": [],
   "source": [
    "XN = df.iloc[:,0:51].copy() \n",
    "y = XN.pop('label')"
   ]
  },
  {
   "cell_type": "markdown",
   "metadata": {},
   "source": [
    "Train and test split with 80:20 ratio (+ stratifying as our\n",
    "data is imbalanced):"
   ]
  },
  {
   "cell_type": "code",
   "execution_count": 7,
   "metadata": {},
   "outputs": [],
   "source": [
    "XN_train, XN_test, y_train, y_test = train_test_split(XN, y, test_size=0.2, random_state=42, stratify = y)"
   ]
  },
  {
   "cell_type": "markdown",
   "metadata": {},
   "source": [
    "Normalization:"
   ]
  },
  {
   "cell_type": "code",
   "execution_count": 8,
   "metadata": {},
   "outputs": [],
   "source": [
    "scaler = StandardScaler()\n",
    "XN_train = pd.DataFrame(scaler.fit_transform(XN_train), columns=XN_train.columns)\n",
    "XN_test = pd.DataFrame(scaler.transform(XN_test), columns=XN_test.columns)"
   ]
  },
  {
   "cell_type": "markdown",
   "metadata": {},
   "source": [
    "Let's do a PCA in the case that some features are dependent:"
   ]
  },
  {
   "cell_type": "code",
   "execution_count": 9,
   "metadata": {},
   "outputs": [
    {
     "name": "stdout",
     "output_type": "stream",
     "text": [
      "Number of components after fitting the pca model= 27\n"
     ]
    }
   ],
   "source": [
    "pca = PCA(.95)\n",
    "pca.fit(XN_train)\n",
    "print('Number of components after fitting the pca model=', pca.n_components_) #pca.components_.shape #(27,50)\n",
    "XN_train = pca.transform(XN_train)\n",
    "XN_test = pca.transform(XN_test)"
   ]
  },
  {
   "cell_type": "markdown",
   "metadata": {},
   "source": [
    "See: 27 vs 50! About half of the features were useless. Good job, PCA!\n",
    "\n",
    "(However, PCA is appropriate only for linearly dependent features, and kernel PCA, with a nonlinear kernel, is more appropriate if we have nonlinear dependencies. I don't use it here, as PCA already gave us good resuly.)\n",
    "\n",
    "It would be nice to have a visualization, too:"
   ]
  },
  {
   "cell_type": "code",
   "execution_count": 10,
   "metadata": {},
   "outputs": [
    {
     "data": {
      "text/html": [
       "<div>\n",
       "<style scoped>\n",
       "    .dataframe tbody tr th:only-of-type {\n",
       "        vertical-align: middle;\n",
       "    }\n",
       "\n",
       "    .dataframe tbody tr th {\n",
       "        vertical-align: top;\n",
       "    }\n",
       "\n",
       "    .dataframe thead th {\n",
       "        text-align: right;\n",
       "    }\n",
       "</style>\n",
       "<table border=\"1\" class=\"dataframe\">\n",
       "  <thead>\n",
       "    <tr style=\"text-align: right;\">\n",
       "      <th></th>\n",
       "      <th>PC1</th>\n",
       "      <th>PC2</th>\n",
       "      <th>PC3</th>\n",
       "      <th>PC4</th>\n",
       "      <th>label</th>\n",
       "    </tr>\n",
       "  </thead>\n",
       "  <tbody>\n",
       "    <tr>\n",
       "      <td>0</td>\n",
       "      <td>0.421144</td>\n",
       "      <td>0.072522</td>\n",
       "      <td>-2.431874</td>\n",
       "      <td>-1.735885</td>\n",
       "      <td>0</td>\n",
       "    </tr>\n",
       "    <tr>\n",
       "      <td>1</td>\n",
       "      <td>-7.707498</td>\n",
       "      <td>1.148288</td>\n",
       "      <td>4.010730</td>\n",
       "      <td>3.060108</td>\n",
       "      <td>0</td>\n",
       "    </tr>\n",
       "    <tr>\n",
       "      <td>2</td>\n",
       "      <td>0.227566</td>\n",
       "      <td>1.673617</td>\n",
       "      <td>-2.461372</td>\n",
       "      <td>-1.319438</td>\n",
       "      <td>0</td>\n",
       "    </tr>\n",
       "    <tr>\n",
       "      <td>3</td>\n",
       "      <td>1.776395</td>\n",
       "      <td>0.585118</td>\n",
       "      <td>0.469313</td>\n",
       "      <td>-1.912128</td>\n",
       "      <td>0</td>\n",
       "    </tr>\n",
       "    <tr>\n",
       "      <td>4</td>\n",
       "      <td>5.537179</td>\n",
       "      <td>-1.331432</td>\n",
       "      <td>2.370161</td>\n",
       "      <td>2.132575</td>\n",
       "      <td>0</td>\n",
       "    </tr>\n",
       "  </tbody>\n",
       "</table>\n",
       "</div>"
      ],
      "text/plain": [
       "        PC1       PC2       PC3       PC4  label\n",
       "0  0.421144  0.072522 -2.431874 -1.735885      0\n",
       "1 -7.707498  1.148288  4.010730  3.060108      0\n",
       "2  0.227566  1.673617 -2.461372 -1.319438      0\n",
       "3  1.776395  0.585118  0.469313 -1.912128      0\n",
       "4  5.537179 -1.331432  2.370161  2.132575      0"
      ]
     },
     "execution_count": 10,
     "metadata": {},
     "output_type": "execute_result"
    }
   ],
   "source": [
    "# Retrieve the four principal components with the highest variance\n",
    "XN_train_4viz = XN_train[:, 0:4]\n",
    "pc_names = ['PC1','PC2','PC3','PC4']\n",
    "df_4viz = pd.DataFrame(data=XN_train_4viz, columns=pc_names)\n",
    "df_4viz['label'] = y\n",
    "df_4viz.head()"
   ]
  },
  {
   "cell_type": "code",
   "execution_count": 11,
   "metadata": {},
   "outputs": [
    {
     "data": {
      "image/png": "[encoded data removed]",
      "text/plain": [
       "<Figure size 330.375x288 with 1 Axes>"
      ]
     },
     "metadata": {
      "needs_background": "light"
     },
     "output_type": "display_data"
    }
   ],
   "source": [
    "graph = sns.FacetGrid(data=df_4viz, hue='label', height=4)\n",
    "graph.map(plt.scatter, 'PC1','PC2').add_legend()\n",
    "plt.show()"
   ]
  },
  {
   "cell_type": "markdown",
   "metadata": {},
   "source": [
    "The above figure shows the relationship between the two principal components with highest varience. \n",
    "\n",
    "Now, let me try to visualize the four principal components with the highest variance in a scatter plot:"
   ]
  },
  {
   "cell_type": "code",
   "execution_count": 12,
   "metadata": {},
   "outputs": [
    {
     "data": {
      "image/png": "[encoded data removed]",
      "text/plain": [
       "<Figure size 1080x1080 with 16 Axes>"
      ]
     },
     "metadata": {
      "needs_background": "light"
     },
     "output_type": "display_data"
    }
   ],
   "source": [
    "fig, ax = plt.subplots(4, 4, sharex='col', sharey='row', figsize=(15,15))\n",
    "fig.suptitle('PCA of ECG Dataset (Numerical Features)', fontsize=16)\n",
    "labels = list(y.unique()) #[0, 2, 1, 3]\n",
    "colors = ['black','tab:gray','gold','tab:red']\n",
    "for i in range(4):\n",
    "    for j in range(4):\n",
    "        if i==j:\n",
    "            ax[i,j].text(0.5, 0.5,'Dim'+ str(i+1), ha='center', fontsize=16)\n",
    "        else:\n",
    "            for label, color in zip(labels, colors):\n",
    "                xdata = df_4viz[df_4viz['label']==label][pc_names[i]]\n",
    "                ydata = df_4viz[df_4viz['label']==label][pc_names[j]]\n",
    "                ax[i, j].scatter(x=xdata, y=ydata, color=color)\n",
    "                ax[i, j].set(xlabel=None, ylabel=None)\n",
    "fig.tight_layout()\n",
    "fig.subplots_adjust(top=0.95)\n",
    "plt.show()"
   ]
  },
  {
   "cell_type": "markdown",
   "metadata": {},
   "source": [
    "Now, I define a logistic regression classifier:"
   ]
  },
  {
   "cell_type": "code",
   "execution_count": 13,
   "metadata": {},
   "outputs": [
    {
     "name": "stdout",
     "output_type": "stream",
     "text": [
      "              precision    recall  f1-score   support\n",
      "\n",
      "           0       0.71      0.91      0.80      1010\n",
      "           1       0.67      0.51      0.58       148\n",
      "           2       0.53      0.26      0.35       491\n",
      "           3       0.60      0.54      0.57        57\n",
      "\n",
      "    accuracy                           0.68      1706\n",
      "   macro avg       0.63      0.56      0.57      1706\n",
      "weighted avg       0.65      0.68      0.64      1706\n",
      "\n"
     ]
    }
   ],
   "source": [
    "clf1 = LogisticRegression(solver='lbfgs', multi_class='auto')\n",
    "clf1.fit(XN_train, y_train)\n",
    "y_pred = clf1.predict(XN_test)\n",
    "print(classification_report(y_test, y_pred))"
   ]
  },
  {
   "cell_type": "markdown",
   "metadata": {},
   "source": [
    "Actully, it is not bad, compared with the baseline."
   ]
  },
  {
   "cell_type": "markdown",
   "metadata": {},
   "source": [
    "## 3. Classifier-II\n",
    "Construct a logistic regression classifier for the last 20 categorial features (Classifier-II)."
   ]
  },
  {
   "cell_type": "markdown",
   "metadata": {},
   "source": [
    "First, I extract categorial features for this classifier (target values in y vector is as before):"
   ]
  },
  {
   "cell_type": "code",
   "execution_count": 14,
   "metadata": {},
   "outputs": [
    {
     "data": {
      "text/html": [
       "<div>\n",
       "<style scoped>\n",
       "    .dataframe tbody tr th:only-of-type {\n",
       "        vertical-align: middle;\n",
       "    }\n",
       "\n",
       "    .dataframe tbody tr th {\n",
       "        vertical-align: top;\n",
       "    }\n",
       "\n",
       "    .dataframe thead th {\n",
       "        text-align: right;\n",
       "    }\n",
       "</style>\n",
       "<table border=\"1\" class=\"dataframe\">\n",
       "  <thead>\n",
       "    <tr style=\"text-align: right;\">\n",
       "      <th></th>\n",
       "      <th>categ_feat0</th>\n",
       "      <th>categ_feat1</th>\n",
       "      <th>categ_feat2</th>\n",
       "      <th>categ_feat3</th>\n",
       "      <th>categ_feat4</th>\n",
       "      <th>categ_feat5</th>\n",
       "      <th>categ_feat6</th>\n",
       "      <th>categ_feat7</th>\n",
       "      <th>categ_feat8</th>\n",
       "      <th>categ_feat9</th>\n",
       "      <th>categ_feat10</th>\n",
       "      <th>categ_feat11</th>\n",
       "      <th>categ_feat12</th>\n",
       "      <th>categ_feat13</th>\n",
       "      <th>categ_feat14</th>\n",
       "      <th>categ_feat15</th>\n",
       "      <th>categ_feat16</th>\n",
       "      <th>categ_feat17</th>\n",
       "      <th>categ_feat18</th>\n",
       "      <th>categ_feat19</th>\n",
       "    </tr>\n",
       "  </thead>\n",
       "  <tbody>\n",
       "    <tr>\n",
       "      <td>0</td>\n",
       "      <td>V3</td>\n",
       "      <td>Y1</td>\n",
       "      <td>I3</td>\n",
       "      <td>R2</td>\n",
       "      <td>E2</td>\n",
       "      <td>D2</td>\n",
       "      <td>I2</td>\n",
       "      <td>T1</td>\n",
       "      <td>O1</td>\n",
       "      <td>F0</td>\n",
       "      <td>T1</td>\n",
       "      <td>I2</td>\n",
       "      <td>D2</td>\n",
       "      <td>F4</td>\n",
       "      <td>I3</td>\n",
       "      <td>U1</td>\n",
       "      <td>N4</td>\n",
       "      <td>S2</td>\n",
       "      <td>J5</td>\n",
       "      <td>N2</td>\n",
       "    </tr>\n",
       "    <tr>\n",
       "      <td>1</td>\n",
       "      <td>V3</td>\n",
       "      <td>Y2</td>\n",
       "      <td>I4</td>\n",
       "      <td>R3</td>\n",
       "      <td>E2</td>\n",
       "      <td>D2</td>\n",
       "      <td>I4</td>\n",
       "      <td>T1</td>\n",
       "      <td>O6</td>\n",
       "      <td>F2</td>\n",
       "      <td>T1</td>\n",
       "      <td>I2</td>\n",
       "      <td>D2</td>\n",
       "      <td>F6</td>\n",
       "      <td>I2</td>\n",
       "      <td>U1</td>\n",
       "      <td>N4</td>\n",
       "      <td>S2</td>\n",
       "      <td>J6</td>\n",
       "      <td>N0</td>\n",
       "    </tr>\n",
       "    <tr>\n",
       "      <td>2</td>\n",
       "      <td>V3</td>\n",
       "      <td>Y1</td>\n",
       "      <td>I2</td>\n",
       "      <td>R2</td>\n",
       "      <td>E2</td>\n",
       "      <td>D2</td>\n",
       "      <td>I4</td>\n",
       "      <td>T0</td>\n",
       "      <td>O2</td>\n",
       "      <td>F0</td>\n",
       "      <td>T1</td>\n",
       "      <td>I2</td>\n",
       "      <td>D0</td>\n",
       "      <td>F4</td>\n",
       "      <td>I3</td>\n",
       "      <td>U1</td>\n",
       "      <td>N4</td>\n",
       "      <td>S2</td>\n",
       "      <td>J5</td>\n",
       "      <td>N2</td>\n",
       "    </tr>\n",
       "    <tr>\n",
       "      <td>3</td>\n",
       "      <td>V3</td>\n",
       "      <td>Y1</td>\n",
       "      <td>I2</td>\n",
       "      <td>R1</td>\n",
       "      <td>E2</td>\n",
       "      <td>D1</td>\n",
       "      <td>I3</td>\n",
       "      <td>T1</td>\n",
       "      <td>O3</td>\n",
       "      <td>F0</td>\n",
       "      <td>T1</td>\n",
       "      <td>I1</td>\n",
       "      <td>D0</td>\n",
       "      <td>F4</td>\n",
       "      <td>I3</td>\n",
       "      <td>U1</td>\n",
       "      <td>N4</td>\n",
       "      <td>S1</td>\n",
       "      <td>J3</td>\n",
       "      <td>N2</td>\n",
       "    </tr>\n",
       "    <tr>\n",
       "      <td>4</td>\n",
       "      <td>V3</td>\n",
       "      <td>Y2</td>\n",
       "      <td>I4</td>\n",
       "      <td>R2</td>\n",
       "      <td>E2</td>\n",
       "      <td>D2</td>\n",
       "      <td>I3</td>\n",
       "      <td>T1</td>\n",
       "      <td>O2</td>\n",
       "      <td>F0</td>\n",
       "      <td>T2</td>\n",
       "      <td>I2</td>\n",
       "      <td>D4</td>\n",
       "      <td>F5</td>\n",
       "      <td>I3</td>\n",
       "      <td>U1</td>\n",
       "      <td>N4</td>\n",
       "      <td>S2</td>\n",
       "      <td>J4</td>\n",
       "      <td>N2</td>\n",
       "    </tr>\n",
       "  </tbody>\n",
       "</table>\n",
       "</div>"
      ],
      "text/plain": [
       "  categ_feat0 categ_feat1 categ_feat2 categ_feat3 categ_feat4 categ_feat5  \\\n",
       "0          V3          Y1          I3          R2          E2          D2   \n",
       "1          V3          Y2          I4          R3          E2          D2   \n",
       "2          V3          Y1          I2          R2          E2          D2   \n",
       "3          V3          Y1          I2          R1          E2          D1   \n",
       "4          V3          Y2          I4          R2          E2          D2   \n",
       "\n",
       "  categ_feat6 categ_feat7 categ_feat8 categ_feat9 categ_feat10 categ_feat11  \\\n",
       "0          I2          T1          O1          F0           T1           I2   \n",
       "1          I4          T1          O6          F2           T1           I2   \n",
       "2          I4          T0          O2          F0           T1           I2   \n",
       "3          I3          T1          O3          F0           T1           I1   \n",
       "4          I3          T1          O2          F0           T2           I2   \n",
       "\n",
       "  categ_feat12 categ_feat13 categ_feat14 categ_feat15 categ_feat16  \\\n",
       "0           D2           F4           I3           U1           N4   \n",
       "1           D2           F6           I2           U1           N4   \n",
       "2           D0           F4           I3           U1           N4   \n",
       "3           D0           F4           I3           U1           N4   \n",
       "4           D4           F5           I3           U1           N4   \n",
       "\n",
       "  categ_feat17 categ_feat18 categ_feat19  \n",
       "0           S2           J5           N2  \n",
       "1           S2           J6           N0  \n",
       "2           S2           J5           N2  \n",
       "3           S1           J3           N2  \n",
       "4           S2           J4           N2  "
      ]
     },
     "execution_count": 14,
     "metadata": {},
     "output_type": "execute_result"
    }
   ],
   "source": [
    "XC = df.iloc[:,51:71].copy() \n",
    "y = df.loc[:,\"label\"]\n",
    "XC.head()"
   ]
  },
  {
   "cell_type": "markdown",
   "metadata": {},
   "source": [
    "Second, I should encode the categorial feature values to numerical correspondings. Let's see what are the categorial values in each columns:"
   ]
  },
  {
   "cell_type": "code",
   "execution_count": 15,
   "metadata": {},
   "outputs": [
    {
     "name": "stdout",
     "output_type": "stream",
     "text": [
      "['V0', 'V1', 'V2', 'V3', 'V4', 'V5', 'V6', 'V7', 'V8']\n",
      "['Y1', 'Y2', 'Y3']\n",
      "['I0', 'I1', 'I2', 'I3', 'I4', 'I5', 'I6', 'I7']\n",
      "['R0', 'R1', 'R2', 'R3']\n",
      "['E0', 'E1', 'E2', 'E3', 'E4', 'E5', 'E6', 'E7']\n",
      "['D0', 'D1', 'D2', 'D3', 'D4']\n",
      "['I1', 'I2', 'I3', 'I4', 'I5']\n",
      "['T0', 'T1', 'T2', 'T3']\n",
      "['O0', 'O1', 'O2', 'O3', 'O4', 'O5', 'O6']\n",
      "['F0', 'F1', 'F2', 'F4']\n",
      "['T0', 'T1', 'T2', 'T3', 'T4', 'T5']\n",
      "['I1', 'I2', 'I3']\n",
      "['D0', 'D1', 'D2', 'D3', 'D4', 'D5']\n",
      "['F3', 'F4', 'F5', 'F6', 'F7']\n",
      "['I0', 'I1', 'I2', 'I3', 'I4', 'I5']\n",
      "['U0', 'U1', 'U2']\n",
      "['N2', 'N3', 'N4']\n",
      "['S0', 'S1', 'S2', 'S3', 'S4']\n",
      "['J1', 'J2', 'J3', 'J4', 'J5', 'J6', 'J7']\n",
      "['N0', 'N1', 'N2', 'N3', 'N4', 'N5']\n"
     ]
    }
   ],
   "source": [
    "for i in range(20):\n",
    "    tmp = list(XC.iloc[:,i].unique())\n",
    "    print(sorted(tmp))"
   ]
  },
  {
   "cell_type": "markdown",
   "metadata": {},
   "source": [
    "It seems they are \"ordinal\" categorial values (note to indices, e.g., V0, V1, V2, etc.). One way of encoding such data is integer encoding:"
   ]
  },
  {
   "cell_type": "code",
   "execution_count": 16,
   "metadata": {},
   "outputs": [],
   "source": [
    "oe = OrdinalEncoder()\n",
    "for i in range(20):\n",
    "    oe.fit(XC)\n",
    "    XC_enc = oe.fit_transform(XC)"
   ]
  },
  {
   "cell_type": "code",
   "execution_count": 17,
   "metadata": {},
   "outputs": [
    {
     "data": {
      "text/html": [
       "<div>\n",
       "<style scoped>\n",
       "    .dataframe tbody tr th:only-of-type {\n",
       "        vertical-align: middle;\n",
       "    }\n",
       "\n",
       "    .dataframe tbody tr th {\n",
       "        vertical-align: top;\n",
       "    }\n",
       "\n",
       "    .dataframe thead th {\n",
       "        text-align: right;\n",
       "    }\n",
       "</style>\n",
       "<table border=\"1\" class=\"dataframe\">\n",
       "  <thead>\n",
       "    <tr style=\"text-align: right;\">\n",
       "      <th></th>\n",
       "      <th>categ_feat0</th>\n",
       "      <th>categ_feat1</th>\n",
       "      <th>categ_feat2</th>\n",
       "      <th>categ_feat3</th>\n",
       "      <th>categ_feat4</th>\n",
       "      <th>categ_feat5</th>\n",
       "      <th>categ_feat6</th>\n",
       "      <th>categ_feat7</th>\n",
       "      <th>categ_feat8</th>\n",
       "      <th>categ_feat9</th>\n",
       "      <th>categ_feat10</th>\n",
       "      <th>categ_feat11</th>\n",
       "      <th>categ_feat12</th>\n",
       "      <th>categ_feat13</th>\n",
       "      <th>categ_feat14</th>\n",
       "      <th>categ_feat15</th>\n",
       "      <th>categ_feat16</th>\n",
       "      <th>categ_feat17</th>\n",
       "      <th>categ_feat18</th>\n",
       "      <th>categ_feat19</th>\n",
       "    </tr>\n",
       "  </thead>\n",
       "  <tbody>\n",
       "    <tr>\n",
       "      <td>0</td>\n",
       "      <td>3.0</td>\n",
       "      <td>0.0</td>\n",
       "      <td>3.0</td>\n",
       "      <td>2.0</td>\n",
       "      <td>2.0</td>\n",
       "      <td>2.0</td>\n",
       "      <td>1.0</td>\n",
       "      <td>1.0</td>\n",
       "      <td>1.0</td>\n",
       "      <td>0.0</td>\n",
       "      <td>1.0</td>\n",
       "      <td>1.0</td>\n",
       "      <td>2.0</td>\n",
       "      <td>1.0</td>\n",
       "      <td>3.0</td>\n",
       "      <td>1.0</td>\n",
       "      <td>2.0</td>\n",
       "      <td>2.0</td>\n",
       "      <td>4.0</td>\n",
       "      <td>2.0</td>\n",
       "    </tr>\n",
       "    <tr>\n",
       "      <td>1</td>\n",
       "      <td>3.0</td>\n",
       "      <td>1.0</td>\n",
       "      <td>4.0</td>\n",
       "      <td>3.0</td>\n",
       "      <td>2.0</td>\n",
       "      <td>2.0</td>\n",
       "      <td>3.0</td>\n",
       "      <td>1.0</td>\n",
       "      <td>6.0</td>\n",
       "      <td>2.0</td>\n",
       "      <td>1.0</td>\n",
       "      <td>1.0</td>\n",
       "      <td>2.0</td>\n",
       "      <td>3.0</td>\n",
       "      <td>2.0</td>\n",
       "      <td>1.0</td>\n",
       "      <td>2.0</td>\n",
       "      <td>2.0</td>\n",
       "      <td>5.0</td>\n",
       "      <td>0.0</td>\n",
       "    </tr>\n",
       "    <tr>\n",
       "      <td>2</td>\n",
       "      <td>3.0</td>\n",
       "      <td>0.0</td>\n",
       "      <td>2.0</td>\n",
       "      <td>2.0</td>\n",
       "      <td>2.0</td>\n",
       "      <td>2.0</td>\n",
       "      <td>3.0</td>\n",
       "      <td>0.0</td>\n",
       "      <td>2.0</td>\n",
       "      <td>0.0</td>\n",
       "      <td>1.0</td>\n",
       "      <td>1.0</td>\n",
       "      <td>0.0</td>\n",
       "      <td>1.0</td>\n",
       "      <td>3.0</td>\n",
       "      <td>1.0</td>\n",
       "      <td>2.0</td>\n",
       "      <td>2.0</td>\n",
       "      <td>4.0</td>\n",
       "      <td>2.0</td>\n",
       "    </tr>\n",
       "    <tr>\n",
       "      <td>3</td>\n",
       "      <td>3.0</td>\n",
       "      <td>0.0</td>\n",
       "      <td>2.0</td>\n",
       "      <td>1.0</td>\n",
       "      <td>2.0</td>\n",
       "      <td>1.0</td>\n",
       "      <td>2.0</td>\n",
       "      <td>1.0</td>\n",
       "      <td>3.0</td>\n",
       "      <td>0.0</td>\n",
       "      <td>1.0</td>\n",
       "      <td>0.0</td>\n",
       "      <td>0.0</td>\n",
       "      <td>1.0</td>\n",
       "      <td>3.0</td>\n",
       "      <td>1.0</td>\n",
       "      <td>2.0</td>\n",
       "      <td>1.0</td>\n",
       "      <td>2.0</td>\n",
       "      <td>2.0</td>\n",
       "    </tr>\n",
       "    <tr>\n",
       "      <td>4</td>\n",
       "      <td>3.0</td>\n",
       "      <td>1.0</td>\n",
       "      <td>4.0</td>\n",
       "      <td>2.0</td>\n",
       "      <td>2.0</td>\n",
       "      <td>2.0</td>\n",
       "      <td>2.0</td>\n",
       "      <td>1.0</td>\n",
       "      <td>2.0</td>\n",
       "      <td>0.0</td>\n",
       "      <td>2.0</td>\n",
       "      <td>1.0</td>\n",
       "      <td>4.0</td>\n",
       "      <td>2.0</td>\n",
       "      <td>3.0</td>\n",
       "      <td>1.0</td>\n",
       "      <td>2.0</td>\n",
       "      <td>2.0</td>\n",
       "      <td>3.0</td>\n",
       "      <td>2.0</td>\n",
       "    </tr>\n",
       "  </tbody>\n",
       "</table>\n",
       "</div>"
      ],
      "text/plain": [
       "   categ_feat0  categ_feat1  categ_feat2  categ_feat3  categ_feat4  \\\n",
       "0          3.0          0.0          3.0          2.0          2.0   \n",
       "1          3.0          1.0          4.0          3.0          2.0   \n",
       "2          3.0          0.0          2.0          2.0          2.0   \n",
       "3          3.0          0.0          2.0          1.0          2.0   \n",
       "4          3.0          1.0          4.0          2.0          2.0   \n",
       "\n",
       "   categ_feat5  categ_feat6  categ_feat7  categ_feat8  categ_feat9  \\\n",
       "0          2.0          1.0          1.0          1.0          0.0   \n",
       "1          2.0          3.0          1.0          6.0          2.0   \n",
       "2          2.0          3.0          0.0          2.0          0.0   \n",
       "3          1.0          2.0          1.0          3.0          0.0   \n",
       "4          2.0          2.0          1.0          2.0          0.0   \n",
       "\n",
       "   categ_feat10  categ_feat11  categ_feat12  categ_feat13  categ_feat14  \\\n",
       "0           1.0           1.0           2.0           1.0           3.0   \n",
       "1           1.0           1.0           2.0           3.0           2.0   \n",
       "2           1.0           1.0           0.0           1.0           3.0   \n",
       "3           1.0           0.0           0.0           1.0           3.0   \n",
       "4           2.0           1.0           4.0           2.0           3.0   \n",
       "\n",
       "   categ_feat15  categ_feat16  categ_feat17  categ_feat18  categ_feat19  \n",
       "0           1.0           2.0           2.0           4.0           2.0  \n",
       "1           1.0           2.0           2.0           5.0           0.0  \n",
       "2           1.0           2.0           2.0           4.0           2.0  \n",
       "3           1.0           2.0           1.0           2.0           2.0  \n",
       "4           1.0           2.0           2.0           3.0           2.0  "
      ]
     },
     "execution_count": 17,
     "metadata": {},
     "output_type": "execute_result"
    }
   ],
   "source": [
    "XC_enc = pd.DataFrame(XC_enc, columns=XC.columns )\n",
    "XC_enc.head()"
   ]
  },
  {
   "cell_type": "markdown",
   "metadata": {},
   "source": [
    "Third, I do train and test split with 80:20 ratio (+ stratifying as our\n",
    "data is imbalanced):"
   ]
  },
  {
   "cell_type": "code",
   "execution_count": 18,
   "metadata": {},
   "outputs": [],
   "source": [
    "XC_train, XC_test, y_train, y_test = train_test_split(XC_enc, y, test_size=0.2, random_state=42, stratify = y)"
   ]
  },
  {
   "cell_type": "markdown",
   "metadata": {},
   "source": [
    "Normalization:"
   ]
  },
  {
   "cell_type": "code",
   "execution_count": 19,
   "metadata": {},
   "outputs": [],
   "source": [
    "scaler = StandardScaler()\n",
    "XC_train = pd.DataFrame(scaler.fit_transform(XC_train), columns=XC_train.columns)\n",
    "XC_test = pd.DataFrame(scaler.transform(XC_test), columns=XC_test.columns)"
   ]
  },
  {
   "cell_type": "markdown",
   "metadata": {},
   "source": [
    "And PCA:"
   ]
  },
  {
   "cell_type": "code",
   "execution_count": 20,
   "metadata": {},
   "outputs": [
    {
     "name": "stdout",
     "output_type": "stream",
     "text": [
      "Number of components after fitting the pca model= 17\n"
     ]
    }
   ],
   "source": [
    "pca = PCA(.95)\n",
    "pca.fit(XC_train)\n",
    "print('Number of components after fitting the pca model=', pca.n_components_) #pca.components_.shape #(17,20)\n",
    "XC_pca_train = pca.transform(XC_train)\n",
    "XC_pca_test = pca.transform(XC_test)"
   ]
  },
  {
   "cell_type": "markdown",
   "metadata": {},
   "source": [
    "17 vs 20? Not much linear dependency in features. Let's try Kernel PCA this time:"
   ]
  },
  {
   "cell_type": "code",
   "execution_count": 21,
   "metadata": {},
   "outputs": [],
   "source": [
    "kpca = KernelPCA(kernel='rbf')\n",
    "kpca.fit(XC_train)\n",
    "XC_kpca_train = kpca.transform(XC_train)\n",
    "XC_kpca_test = kpca.transform(XC_test)"
   ]
  },
  {
   "cell_type": "code",
   "execution_count": 22,
   "metadata": {},
   "outputs": [
    {
     "name": "stdout",
     "output_type": "stream",
     "text": [
      "Number of eigenvalues = 6810\n"
     ]
    }
   ],
   "source": [
    "print('Number of eigenvalues =', len(kpca.lambdas_))  # XC_kpca_train.shape #(6822, 6810)"
   ]
  },
  {
   "cell_type": "markdown",
   "metadata": {},
   "source": [
    "Therefore, Kernel PCA assigns 6822 training samples to 6810 vectors. Obviously this dimensionality reduction is not helpful. I had better select the number of components in Kernel PCA. For this purpose, I plot the cumulative sum of eigenvalues ratio:"
   ]
  },
  {
   "cell_type": "code",
   "execution_count": 23,
   "metadata": {},
   "outputs": [
    {
     "data": {
      "image/png": "[encoded data removed]",
      "text/plain": [
       "<Figure size 432x288 with 1 Axes>"
      ]
     },
     "metadata": {
      "needs_background": "light"
     },
     "output_type": "display_data"
    }
   ],
   "source": [
    "x_data = range(1,len(kpca.lambdas_)+1)\n",
    "# we know that the eigenvalues are sorted in decreasing order in lambdas_\n",
    "y_data = np.cumsum(kpca.lambdas_)/np.sum(kpca.lambdas_)\n",
    "\n",
    "plt.scatter(x_data, y_data)\n",
    "plt.xlabel(\"Number of eigenvalues\")\n",
    "plt.ylabel(\"Total variance explained\")\n",
    "plt.show()"
   ]
  },
  {
   "cell_type": "markdown",
   "metadata": {},
   "source": [
    "It seems that the best value for the number of components is between 1500-2000. After 2000, the curve is monotone, so little variance is gained by retaining more values. Therefore, I redo Kernel PCA with a value such as 2000 for the number of components:"
   ]
  },
  {
   "cell_type": "code",
   "execution_count": 24,
   "metadata": {},
   "outputs": [],
   "source": [
    "kpca = KernelPCA(n_components=2000, kernel='rbf')\n",
    "kpca.fit(XC_train)\n",
    "XC_kpca_train = kpca.transform(XC_train)\n",
    "XC_kpca_test = kpca.transform(XC_test)"
   ]
  },
  {
   "cell_type": "markdown",
   "metadata": {},
   "source": [
    "Now, I define a logistic regression classifier over the result of Kernel PCA:"
   ]
  },
  {
   "cell_type": "code",
   "execution_count": 25,
   "metadata": {},
   "outputs": [
    {
     "name": "stdout",
     "output_type": "stream",
     "text": [
      "              precision    recall  f1-score   support\n",
      "\n",
      "           0       0.72      0.90      0.80      1010\n",
      "           1       0.29      0.01      0.03       148\n",
      "           2       0.67      0.59      0.63       491\n",
      "           3       1.00      0.02      0.03        57\n",
      "\n",
      "    accuracy                           0.70      1706\n",
      "   macro avg       0.67      0.38      0.37      1706\n",
      "weighted avg       0.68      0.70      0.66      1706\n",
      "\n"
     ]
    }
   ],
   "source": [
    "clf2a = LogisticRegression(solver='lbfgs', multi_class='auto', max_iter=4000)\n",
    "clf2a.fit(XC_kpca_train, y_train)\n",
    "y_pred = clf2a.predict(XC_kpca_test)\n",
    "print(classification_report(y_test, y_pred))"
   ]
  },
  {
   "cell_type": "markdown",
   "metadata": {},
   "source": [
    "Let's find what if we construct a model before applying dimensionality reduction:"
   ]
  },
  {
   "cell_type": "code",
   "execution_count": 26,
   "metadata": {},
   "outputs": [
    {
     "name": "stdout",
     "output_type": "stream",
     "text": [
      "              precision    recall  f1-score   support\n",
      "\n",
      "           0       0.72      0.89      0.80      1010\n",
      "           1       0.30      0.04      0.07       148\n",
      "           2       0.68      0.61      0.64       491\n",
      "           3       0.62      0.09      0.15        57\n",
      "\n",
      "    accuracy                           0.71      1706\n",
      "   macro avg       0.58      0.41      0.42      1706\n",
      "weighted avg       0.67      0.71      0.67      1706\n",
      "\n"
     ]
    }
   ],
   "source": [
    "clf2b = LogisticRegression(solver='lbfgs', multi_class='auto', max_iter=4000)\n",
    "clf2b.fit(XC_train, y_train)\n",
    "y_pred = clf2b.predict(XC_test)\n",
    "print(classification_report(y_test, y_pred))"
   ]
  },
  {
   "cell_type": "markdown",
   "metadata": {},
   "source": [
    "As expected, the classification has sligthly better performance without dimensionality reduction. However, both classifiers have poor performance over this imbalanced dataset."
   ]
  },
  {
   "cell_type": "markdown",
   "metadata": {},
   "source": [
    "## 4. Voting classifier"
   ]
  },
  {
   "cell_type": "markdown",
   "metadata": {},
   "source": [
    "Last, I construct a voting classifier over the claffiers clf1 and clf2b:"
   ]
  },
  {
   "cell_type": "code",
   "execution_count": 27,
   "metadata": {},
   "outputs": [],
   "source": [
    "def final_decision(clf1_out, clf1_prob, clf2_out, clf2_prob):\n",
    "    \"\"\"\n",
    "    Params:\n",
    "    clf1_out : Classification results of Classifier1 (numerical features)\n",
    "    clf1_prob: Probabilities of the clf1_output\n",
    "    clf2_out : Classification result of Classifier2 (categorial features)\n",
    "    clf2_prob: Probabilities of the clf2_output\n",
    "    \n",
    "    Attributes:\n",
    "    final_out: Final classification result\n",
    "    final_prob: Probabilities of the final classification result\n",
    "    \n",
    "    All params and attributes are vectors.\n",
    "    \"\"\"\n",
    "    n = len(clf1_out)\n",
    "    final_out = np.zeros(n)\n",
    "    final_prob = np.zeros(n)\n",
    "    for i in range(n):        \n",
    "        if clf1_out[i] == clf2_out[i]:\n",
    "            final_out[i] = clf1_out[i]\n",
    "            final_prob[i] = clf1_prob[i] + clf2_prob[i] - (clf1_prob[i] * clf2_prob[i])\n",
    "        else:\n",
    "            if clf1_prob[i] > clf2_prob[i]:\n",
    "                final_out[i] = clf1_out[i]\n",
    "                final_prob[i] = clf1_prob[i]\n",
    "            else:\n",
    "                final_out[i] = clf2_out[i]\n",
    "                final_prob[i] = clf2_prob[i]            \n",
    "    return final_out, final_prob"
   ]
  },
  {
   "cell_type": "code",
   "execution_count": 28,
   "metadata": {},
   "outputs": [],
   "source": [
    "y1_pred = clf1.predict(XN_test)\n",
    "y1_prob = np.amax(clf1.predict_proba(XN_test),1)\n",
    "y2_pred = clf2b.predict(XC_test)\n",
    "y2_prob = np.amax(clf2b.predict_proba(XC_test),1)\n",
    "\n",
    "final_pred, final_prob = final_decision(y1_pred, y1_prob, y2_pred, y2_prob)"
   ]
  },
  {
   "cell_type": "code",
   "execution_count": 29,
   "metadata": {},
   "outputs": [
    {
     "name": "stdout",
     "output_type": "stream",
     "text": [
      "              precision    recall  f1-score   support\n",
      "\n",
      "           0       0.74      0.96      0.83      1010\n",
      "           1       0.83      0.30      0.44       148\n",
      "           2       0.77      0.48      0.59       491\n",
      "           3       0.71      0.35      0.47        57\n",
      "\n",
      "    accuracy                           0.75      1706\n",
      "   macro avg       0.76      0.52      0.58      1706\n",
      "weighted avg       0.75      0.75      0.72      1706\n",
      "\n"
     ]
    }
   ],
   "source": [
    "print(classification_report(y_test, final_pred))"
   ]
  },
  {
   "cell_type": "markdown",
   "metadata": {},
   "source": [
    "Let's compare the combining result (the ensemble above) with each classifiers clf1 and clf2b results, separately: "
   ]
  },
  {
   "cell_type": "code",
   "execution_count": 30,
   "metadata": {},
   "outputs": [
    {
     "name": "stdout",
     "output_type": "stream",
     "text": [
      "              precision    recall  f1-score   support\n",
      "\n",
      "           0       0.71      0.91      0.80      1010\n",
      "           1       0.67      0.51      0.58       148\n",
      "           2       0.53      0.26      0.35       491\n",
      "           3       0.60      0.54      0.57        57\n",
      "\n",
      "    accuracy                           0.68      1706\n",
      "   macro avg       0.63      0.56      0.57      1706\n",
      "weighted avg       0.65      0.68      0.64      1706\n",
      "\n",
      "              precision    recall  f1-score   support\n",
      "\n",
      "           0       0.72      0.89      0.80      1010\n",
      "           1       0.30      0.04      0.07       148\n",
      "           2       0.68      0.61      0.64       491\n",
      "           3       0.62      0.09      0.15        57\n",
      "\n",
      "    accuracy                           0.71      1706\n",
      "   macro avg       0.58      0.41      0.42      1706\n",
      "weighted avg       0.67      0.71      0.67      1706\n",
      "\n"
     ]
    }
   ],
   "source": [
    "print(classification_report(y_test, y1_pred))\n",
    "print(classification_report(y_test, y2_pred))"
   ]
  },
  {
   "cell_type": "markdown",
   "metadata": {},
   "source": [
    "The ensemble's result is clearly more \"balanced\". For comparison, consider the weighted avg of f1-scores: We see that the ensemble shows better performance (0.72 vs 0.64 or 0.67). "
   ]
  },
  {
   "cell_type": "markdown",
   "metadata": {},
   "source": [
    "## Appendix. How to improve?\n",
    "\n",
    "    1- Try different classification method. For instance, the weighted SVM is more appropriate for imbalanced dataset. However, the SVM is not as easy as logistic regression for multi-class classification.\n",
    "    2- Construct one unique model for all features (i.e., mix of numerical and categorial features), for instance, tree-based methods such as Random Forests and AdaBoost.\n",
    "    3- Try different encoding method for categorial data, such as One Hot encoding."
   ]
  }
 ],
 "metadata": {
  "colab": {
   "collapsed_sections": [],
   "name": "ECG Data Analysis.ipynb",
   "provenance": []
  },
  "kernelspec": {
   "display_name": "Python 3",
   "language": "python",
   "name": "python3"
  },
  "language_info": {
   "codemirror_mode": {
    "name": "ipython",
    "version": 3
   },
   "file_extension": ".py",
   "mimetype": "text/x-python",
   "name": "python",
   "nbconvert_exporter": "python",
   "pygments_lexer": "ipython3",
   "version": "3.7.4"
  }
 },
 "nbformat": 4,
 "nbformat_minor": 1
}
